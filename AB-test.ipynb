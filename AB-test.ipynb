{
 "cells": [
  {
   "cell_type": "code",
   "execution_count": 44,
   "id": "bfcd56b5-4cbe-42ee-b197-b996891ab4c4",
   "metadata": {},
   "outputs": [],
   "source": [
    "import pandas as pd\n",
    "import pandahouse\n",
    "import numpy as np\n",
    "import hashlib\n",
    "import seaborn as sns\n",
    "from scipy import stats"
   ]
  },
  {
   "cell_type": "markdown",
   "id": "84531ee3-968e-4824-b928-0e472436a57d",
   "metadata": {},
   "source": [
    "# Подключение к базе данных"
   ]
  },
  {
   "cell_type": "code",
   "execution_count": 2,
   "id": "20775097-39e6-42a1-9506-c9b724981e65",
   "metadata": {},
   "outputs": [],
   "source": [
    "connection = {\n",
    "    'host': 'https://clickhouse.lab.karpov.courses',\n",
    "    'password': 'dpo_python_2020',\n",
    "    'user': 'student',\n",
    "    'database': 'simulator_20230420'\n",
    "}"
   ]
  },
  {
   "cell_type": "markdown",
   "id": "6e50765b-f66a-45d4-9c9d-d27b657b1bfd",
   "metadata": {},
   "source": [
    "# Выгрузка данных в датафрейм"
   ]
  },
  {
   "cell_type": "code",
   "execution_count": 3,
   "id": "d3ed34bd-6bd6-4420-bb99-277e33b64165",
   "metadata": {},
   "outputs": [
    {
     "data": {
      "text/html": [
       "<div>\n",
       "<style scoped>\n",
       "    .dataframe tbody tr th:only-of-type {\n",
       "        vertical-align: middle;\n",
       "    }\n",
       "\n",
       "    .dataframe tbody tr th {\n",
       "        vertical-align: top;\n",
       "    }\n",
       "\n",
       "    .dataframe thead th {\n",
       "        text-align: right;\n",
       "    }\n",
       "</style>\n",
       "<table border=\"1\" class=\"dataframe\">\n",
       "  <thead>\n",
       "    <tr style=\"text-align: right;\">\n",
       "      <th></th>\n",
       "      <th>exp_group</th>\n",
       "      <th>user_id</th>\n",
       "      <th>likes</th>\n",
       "      <th>views</th>\n",
       "      <th>ctr</th>\n",
       "    </tr>\n",
       "  </thead>\n",
       "  <tbody>\n",
       "    <tr>\n",
       "      <th>0</th>\n",
       "      <td>1</td>\n",
       "      <td>109963</td>\n",
       "      <td>3</td>\n",
       "      <td>15</td>\n",
       "      <td>0.200000</td>\n",
       "    </tr>\n",
       "    <tr>\n",
       "      <th>1</th>\n",
       "      <td>1</td>\n",
       "      <td>26117</td>\n",
       "      <td>32</td>\n",
       "      <td>141</td>\n",
       "      <td>0.226950</td>\n",
       "    </tr>\n",
       "    <tr>\n",
       "      <th>2</th>\n",
       "      <td>1</td>\n",
       "      <td>138232</td>\n",
       "      <td>18</td>\n",
       "      <td>73</td>\n",
       "      <td>0.246575</td>\n",
       "    </tr>\n",
       "    <tr>\n",
       "      <th>3</th>\n",
       "      <td>1</td>\n",
       "      <td>26295</td>\n",
       "      <td>33</td>\n",
       "      <td>122</td>\n",
       "      <td>0.270492</td>\n",
       "    </tr>\n",
       "    <tr>\n",
       "      <th>4</th>\n",
       "      <td>1</td>\n",
       "      <td>18392</td>\n",
       "      <td>7</td>\n",
       "      <td>32</td>\n",
       "      <td>0.218750</td>\n",
       "    </tr>\n",
       "    <tr>\n",
       "      <th>...</th>\n",
       "      <td>...</td>\n",
       "      <td>...</td>\n",
       "      <td>...</td>\n",
       "      <td>...</td>\n",
       "      <td>...</td>\n",
       "    </tr>\n",
       "    <tr>\n",
       "      <th>20026</th>\n",
       "      <td>1</td>\n",
       "      <td>132567</td>\n",
       "      <td>45</td>\n",
       "      <td>296</td>\n",
       "      <td>0.152027</td>\n",
       "    </tr>\n",
       "    <tr>\n",
       "      <th>20027</th>\n",
       "      <td>1</td>\n",
       "      <td>30872</td>\n",
       "      <td>11</td>\n",
       "      <td>59</td>\n",
       "      <td>0.186441</td>\n",
       "    </tr>\n",
       "    <tr>\n",
       "      <th>20028</th>\n",
       "      <td>2</td>\n",
       "      <td>25383</td>\n",
       "      <td>42</td>\n",
       "      <td>127</td>\n",
       "      <td>0.330709</td>\n",
       "    </tr>\n",
       "    <tr>\n",
       "      <th>20029</th>\n",
       "      <td>2</td>\n",
       "      <td>139020</td>\n",
       "      <td>24</td>\n",
       "      <td>114</td>\n",
       "      <td>0.210526</td>\n",
       "    </tr>\n",
       "    <tr>\n",
       "      <th>20030</th>\n",
       "      <td>2</td>\n",
       "      <td>17310</td>\n",
       "      <td>9</td>\n",
       "      <td>82</td>\n",
       "      <td>0.109756</td>\n",
       "    </tr>\n",
       "  </tbody>\n",
       "</table>\n",
       "<p>20031 rows × 5 columns</p>\n",
       "</div>"
      ],
      "text/plain": [
       "       exp_group  user_id  likes  views       ctr\n",
       "0              1   109963      3     15  0.200000\n",
       "1              1    26117     32    141  0.226950\n",
       "2              1   138232     18     73  0.246575\n",
       "3              1    26295     33    122  0.270492\n",
       "4              1    18392      7     32  0.218750\n",
       "...          ...      ...    ...    ...       ...\n",
       "20026          1   132567     45    296  0.152027\n",
       "20027          1    30872     11     59  0.186441\n",
       "20028          2    25383     42    127  0.330709\n",
       "20029          2   139020     24    114  0.210526\n",
       "20030          2    17310      9     82  0.109756\n",
       "\n",
       "[20031 rows x 5 columns]"
      ]
     },
     "execution_count": 3,
     "metadata": {},
     "output_type": "execute_result"
    }
   ],
   "source": [
    "q = \"\"\"\n",
    "SELECT exp_group, \n",
    "    user_id,\n",
    "    sum(action = 'like') as likes,\n",
    "    sum(action = 'view') as views,\n",
    "    likes/views as ctr\n",
    "FROM {db}.feed_actions \n",
    "WHERE toDate(time) between '2023-04-01' and '2023-04-07'\n",
    "    and exp_group in (1,2)\n",
    "GROUP BY exp_group, user_id\n",
    "\"\"\"\n",
    "\n",
    "df = pandahouse.read_clickhouse(q, connection=connection)\n",
    "\n",
    "df"
   ]
  },
  {
   "cell_type": "markdown",
   "id": "47be3f1e-bec8-4f6c-8358-81623d271893",
   "metadata": {},
   "source": [
    "# Построим гистограмму"
   ]
  },
  {
   "cell_type": "code",
   "execution_count": 4,
   "id": "831c20d5-227f-4351-bd0b-4f0f3841a039",
   "metadata": {},
   "outputs": [],
   "source": [
    "# Сделаем графики в seaborn покрупнее\n",
    "sns.set(rc={'figure.figsize':(11.7,8.27)})"
   ]
  },
  {
   "cell_type": "code",
   "execution_count": 5,
   "id": "dcf40acd-2227-4935-93f6-51686313bc89",
   "metadata": {},
   "outputs": [
    {
     "data": {
      "image/png": "[encoded data removed]",
      "text/plain": [
       "<Figure size 842.4x595.44 with 1 Axes>"
      ]
     },
     "metadata": {},
     "output_type": "display_data"
    }
   ],
   "source": [
    "groups = sns.histplot(data = df, \n",
    "              x='ctr', \n",
    "              hue='exp_group', \n",
    "              palette = ['r', 'b'],\n",
    "              alpha=0.5,\n",
    "              kde=False)"
   ]
  },
  {
   "cell_type": "markdown",
   "id": "c3ad90a9-7145-4aac-849b-1a043c2121ed",
   "metadata": {},
   "source": [
    "# T-тест Стьюдента"
   ]
  },
  {
   "cell_type": "code",
   "execution_count": 6,
   "id": "a3d64e28-26fe-4811-9a8f-742aecd36e29",
   "metadata": {},
   "outputs": [
    {
     "data": {
      "text/plain": [
       "Ttest_indResult(statistic=0.7094392041270486, pvalue=0.4780623130874935)"
      ]
     },
     "execution_count": 6,
     "metadata": {},
     "output_type": "execute_result"
    }
   ],
   "source": [
    "stats.ttest_ind(df[df.exp_group == 1].ctr,\n",
    "                df[df.exp_group == 2].ctr,\n",
    "                equal_var=False)"
   ]
  },
  {
   "cell_type": "markdown",
   "id": "57919bd3-26e9-4852-847b-5159dedc943d",
   "metadata": {
    "tags": []
   },
   "source": [
    "# Тест Манна-Уитни"
   ]
  },
  {
   "cell_type": "code",
   "execution_count": 7,
   "id": "12d8a268-d05b-4e29-95e9-dcb75dd770c5",
   "metadata": {},
   "outputs": [
    {
     "data": {
      "text/plain": [
       "MannwhitneyuResult(statistic=56601260.5, pvalue=6.0376484617779035e-56)"
      ]
     },
     "execution_count": 7,
     "metadata": {},
     "output_type": "execute_result"
    }
   ],
   "source": [
    "stats.mannwhitneyu(df[df.exp_group == 1].ctr, \n",
    "                   df[df.exp_group == 2].ctr,\n",
    "                   alternative = 'two-sided')"
   ]
  },
  {
   "cell_type": "code",
   "execution_count": 81,
   "id": "932e8fac-da53-4739-b5d7-ff3650a4d4eb",
   "metadata": {},
   "outputs": [
    {
     "name": "stdout",
     "output_type": "stream",
     "text": [
      "В 56.61 % случаев A > B\n"
     ]
    }
   ],
   "source": [
    "A_gt_B = 0\n",
    "for _ in range(10000):\n",
    "    A_gt_B+= df[df.exp_group == 1].ctr.sample().values[0] > df[df.exp_group == 2].ctr.sample().values[0]\n",
    "    \n",
    "print('В', A_gt_B/100, '% случаев A > B')"
   ]
  },
  {
   "cell_type": "markdown",
   "id": "6258b64f-4b7f-4def-b2f1-737a86d693b7",
   "metadata": {},
   "source": [
    "# Пуассоновский бутстрэп"
   ]
  },
  {
   "cell_type": "markdown",
   "id": "d588b1f1-fe83-4325-8743-c733bdf7eb9f",
   "metadata": {},
   "source": [
    "Функция рассчета глобального CTR"
   ]
  },
  {
   "cell_type": "code",
   "execution_count": 8,
   "id": "e35acc3b-e1ec-4023-a5f1-dd6b23e387ba",
   "metadata": {},
   "outputs": [],
   "source": [
    "def bootstrap(likes1, views1, likes2, views2, n_bootstrap=2000):\n",
    "\n",
    "    poisson_bootstraps1 = stats.poisson(1).rvs(\n",
    "        (n_bootstrap, len(likes1))).astype(np.int64)\n",
    "\n",
    "    poisson_bootstraps2 = stats.poisson(1).rvs(\n",
    "            (n_bootstrap, len(likes2))).astype(np.int64)\n",
    "    \n",
    "    globalCTR1 = (poisson_bootstraps1*likes1).sum(axis=1)/(poisson_bootstraps1*views1).sum(axis=1)\n",
    "    \n",
    "    globalCTR2 = (poisson_bootstraps2*likes2).sum(axis=1)/(poisson_bootstraps2*views2).sum(axis=1)\n",
    "\n",
    "    return globalCTR1, globalCTR2"
   ]
  },
  {
   "cell_type": "code",
   "execution_count": 9,
   "id": "8cf0f7b1-a1ac-45f8-b53c-9a3c666913b8",
   "metadata": {},
   "outputs": [],
   "source": [
    "likes1 = df[df.exp_group == 1].likes.to_numpy()\n",
    "views1 = df[df.exp_group == 1].views.to_numpy()\n",
    "likes2 = df[df.exp_group == 2].likes.to_numpy()\n",
    "views2 = df[df.exp_group == 2].views.to_numpy()\n",
    "\n",
    "ctr1, ctr2 = bootstrap(likes1, views1, likes2, views2)"
   ]
  },
  {
   "cell_type": "code",
   "execution_count": 10,
   "id": "2b47404a-9d47-4caf-90f9-5f8a47db0fa5",
   "metadata": {},
   "outputs": [
    {
     "data": {
      "text/plain": [
       "<AxesSubplot:ylabel='Count'>"
      ]
     },
     "execution_count": 10,
     "metadata": {},
     "output_type": "execute_result"
    },
    {
     "data": {
      "image/png": "[encoded data removed]",
      "text/plain": [
       "<Figure size 842.4x595.44 with 1 Axes>"
      ]
     },
     "metadata": {},
     "output_type": "display_data"
    }
   ],
   "source": [
    "sns.histplot(ctr1)\n",
    "sns.histplot(ctr2)"
   ]
  },
  {
   "cell_type": "code",
   "execution_count": 11,
   "id": "cd6e2ac5-2610-4fb9-aee4-0f4fb29e82f3",
   "metadata": {},
   "outputs": [
    {
     "data": {
      "text/plain": [
       "<AxesSubplot:ylabel='Count'>"
      ]
     },
     "execution_count": 11,
     "metadata": {},
     "output_type": "execute_result"
    },
    {
     "data": {
      "image/png": "[encoded data removed]",
      "text/plain": [
       "<Figure size 842.4x595.44 with 1 Axes>"
      ]
     },
     "metadata": {},
     "output_type": "display_data"
    }
   ],
   "source": [
    "#Разница между глобальными CTR\n",
    "\n",
    "sns.histplot(ctr1 - ctr2)"
   ]
  },
  {
   "cell_type": "markdown",
   "id": "8305e3f7-75a1-4f3c-9056-f1a025d98da0",
   "metadata": {},
   "source": [
    "# Сглаживание CTR в двух группах"
   ]
  },
  {
   "cell_type": "markdown",
   "id": "d13444d1-15a1-4875-877e-dde5fcc5d636",
   "metadata": {},
   "source": [
    "Функция сглаживания CTR"
   ]
  },
  {
   "cell_type": "code",
   "execution_count": 12,
   "id": "cbc639d3-9724-40d0-b569-5fb8178e1f69",
   "metadata": {},
   "outputs": [],
   "source": [
    "def get_smothed_ctr(user_likes, user_views, global_ctr, alpha):\n",
    "    smothed_ctr = (user_likes + alpha * global_ctr) / (user_views + alpha)\n",
    "    return smothed_ctr"
   ]
  },
  {
   "cell_type": "code",
   "execution_count": 21,
   "id": "c3016285-3a27-432b-aa93-d894c2d68198",
   "metadata": {},
   "outputs": [],
   "source": [
    "global_ctr_1 = df[df.exp_group == 1].likes.sum()/df[df.exp_group == 1].views.sum()\n",
    "global_ctr_2 = df[df.exp_group == 2].likes.sum()/df[df.exp_group == 2].views.sum()\n",
    "group1 = df[df.exp_group == 1].copy()\n",
    "group2 = df[df.exp_group == 2].copy()"
   ]
  },
  {
   "cell_type": "code",
   "execution_count": 22,
   "id": "abf6af0e-216c-4a3d-b24e-f50795439925",
   "metadata": {},
   "outputs": [],
   "source": [
    "group1['smothed_ctr'] = df.apply(\n",
    "    lambda x: get_smothed_ctr(x['likes'], x['views'], global_ctr_1, 5), axis=1)\n",
    "\n",
    "group2['smothed_ctr'] = df.apply(\n",
    "    lambda x: get_smothed_ctr(x['likes'], x['views'], global_ctr_2, 5), axis=1)"
   ]
  },
  {
   "cell_type": "code",
   "execution_count": 26,
   "id": "216625c8-7ecc-49db-a386-fc1e59c4b94f",
   "metadata": {},
   "outputs": [
    {
     "data": {
      "text/plain": [
       "<AxesSubplot:xlabel='smothed_ctr', ylabel='Count'>"
      ]
     },
     "execution_count": 26,
     "metadata": {},
     "output_type": "execute_result"
    },
    {
     "data": {
      "image/png": "[encoded data removed]",
      "text/plain": [
       "<Figure size 842.4x595.44 with 1 Axes>"
      ]
     },
     "metadata": {},
     "output_type": "display_data"
    }
   ],
   "source": [
    "sns.histplot(group1.smothed_ctr, color=[1.0, 0.0, 0.0], alpha=0.5) \n",
    "sns.histplot(group2.smothed_ctr, color=[0.0, 0.0, 1.0], alpha=0.5)  "
   ]
  },
  {
   "cell_type": "markdown",
   "id": "d627e0c0-910a-4400-aa91-a920a604e0c7",
   "metadata": {},
   "source": [
    "# Сравнение двух групп со сглаженным CTR T-тестом"
   ]
  },
  {
   "cell_type": "code",
   "execution_count": 29,
   "id": "2f4caaf3-3db6-49da-b0a9-e24bab97b802",
   "metadata": {},
   "outputs": [
    {
     "data": {
      "text/plain": [
       "Ttest_indResult(statistic=0.7094392041270486, pvalue=0.4780623130874935)"
      ]
     },
     "execution_count": 29,
     "metadata": {},
     "output_type": "execute_result"
    }
   ],
   "source": [
    "stats.ttest_ind(group1[group1.exp_group == 1].ctr,\n",
    "                group2[group2.exp_group == 2].ctr,\n",
    "                equal_var=False)"
   ]
  },
  {
   "cell_type": "markdown",
   "id": "c32dbacb-eb99-4a7a-adb4-ef8c85ec5a00",
   "metadata": {},
   "source": [
    "# Бакетное преобразование"
   ]
  },
  {
   "cell_type": "markdown",
   "id": "ec1e2867-d92b-470a-9cfe-5fc28db5c63d",
   "metadata": {},
   "source": [
    "Функция хэширования с солью"
   ]
  },
  {
   "cell_type": "code",
   "execution_count": 73,
   "id": "0ab934ff-a533-41ee-9ec4-35a2289b5b30",
   "metadata": {},
   "outputs": [],
   "source": [
    "def ab_split(id, salt='exp_mess_1', n_groups=50):\n",
    "    test_id = str(id) + '-' + str(salt)\n",
    "    test_id_digest = hashlib.md5(test_id.encode('ascii')).hexdigest()\n",
    "    test_id_final_int = int(test_id_digest, 16)\n",
    "    return test_id_final_int % n_groups"
   ]
  },
  {
   "cell_type": "code",
   "execution_count": 77,
   "id": "4b67ee76-1888-4879-94b9-f1d6737e0140",
   "metadata": {},
   "outputs": [],
   "source": [
    "df['bucket_ctr'] = df.user_id.apply(ab_split)"
   ]
  },
  {
   "cell_type": "markdown",
   "id": "8ec0dbea-ab49-4952-b0e7-3eddaec2adb6",
   "metadata": {},
   "source": [
    "# Сравнение двух групп T-тестом поверх бакетного преобразования"
   ]
  },
  {
   "cell_type": "code",
   "execution_count": 78,
   "id": "57d7d590-86bb-4c84-91d0-ad62f879b19f",
   "metadata": {},
   "outputs": [
    {
     "data": {
      "text/plain": [
       "Ttest_indResult(statistic=1.2408670070947334, pvalue=0.21466941821289226)"
      ]
     },
     "execution_count": 78,
     "metadata": {},
     "output_type": "execute_result"
    }
   ],
   "source": [
    "stats.ttest_ind(df[df.exp_group == 1].bucket_ctr, \n",
    "                df[df.exp_group == 2].bucket_ctr, \n",
    "                   equal_var = False)"
   ]
  },
  {
   "cell_type": "markdown",
   "id": "ac8b8002-61f1-4537-afcf-b05ed2b9b894",
   "metadata": {},
   "source": [
    "# Сравнение двух групп тестом Манна-Уитни поверх бакетного преобразования"
   ]
  },
  {
   "cell_type": "code",
   "execution_count": 79,
   "id": "0af5b6d4-ea35-4f3c-8262-1fe610fa72f7",
   "metadata": {},
   "outputs": [
    {
     "data": {
      "text/plain": [
       "MannwhitneyuResult(statistic=50658846.5, pvalue=0.21639251851484642)"
      ]
     },
     "execution_count": 79,
     "metadata": {},
     "output_type": "execute_result"
    }
   ],
   "source": [
    "stats.mannwhitneyu(df[df.exp_group == 1].bucket_ctr, \n",
    "                   df[df.exp_group == 2].bucket_ctr, \n",
    "                   alternative = 'two-sided')"
   ]
  },
  {
   "cell_type": "markdown",
   "id": "01ce8b0f-ac68-427b-b842-26446a8c2238",
   "metadata": {},
   "source": [
    "Сравнение CTR в двух группах проведено несколькими тестами с преобразованием и без, а так же изучение распределений на гистограмме. Можно сделать несколько выводов: \n",
    "1. Распределение во второй группе (новый алгоритм \"Рекомендации похожих на лайкнутые постов\") двухмодальное. На графике видна просадка 2023-04-03 по количеству просмотров и лайков. Так как в данных не обнаружено влияющих на это факторов, это может быть связано с работой нового алгоритма.\n",
    "2. Из за того что одно из распределений двухмодальное, Т-тест не работает даже со сглаженным CTR и бакетным преобразованием.\n",
    "3. Тест Манна-Уитни показал что есть отличие в группах. Пуассоновский бутстрэп показал что разница существенная, причём в первой группе групповой CTR выше чем во второй.\n",
    "4. На данном этапе я бы не рекомендовал раскатывать новый алгоритм на всех пользователей.  "
   ]
  }
 ],
 "metadata": {
  "kernelspec": {
   "display_name": "Python 3 (ipykernel)",
   "language": "python",
   "name": "python3"
  },
  "language_info": {
   "codemirror_mode": {
    "name": "ipython",
    "version": 3
   },
   "file_extension": ".py",
   "mimetype": "text/x-python",
   "name": "python",
   "nbconvert_exporter": "python",
   "pygments_lexer": "ipython3",
   "version": "3.8.10"
  }
 },
 "nbformat": 4,
 "nbformat_minor": 5
}
